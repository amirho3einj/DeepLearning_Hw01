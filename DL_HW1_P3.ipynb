{
  "nbformat": 4,
  "nbformat_minor": 0,
  "metadata": {
    "colab": {
      "provenance": []
    },
    "kernelspec": {
      "name": "python3",
      "display_name": "Python 3"
    },
    "language_info": {
      "name": "python"
    }
  },
  "cells": [
    {
      "cell_type": "code",
      "execution_count": null,
      "metadata": {
        "colab": {
          "base_uri": "https://localhost:8080/"
        },
        "id": "FCX8f4miCg_x",
        "outputId": "a56e1730-fb24-4ddd-c015-d483c0cb585c"
      },
      "outputs": [
        {
          "output_type": "stream",
          "name": "stdout",
          "text": [
            "Mounted at /content/drive\n"
          ]
        }
      ],
      "source": [
        "import numpy as np\n",
        "import pandas as pd\n",
        "# from google.colab import drive\n",
        "# drive.mount('/content/drive')\n",
        "# df = pd.read_csv(\"drive/My Drive/DeepLearning/Hw01/Heart_Disease_Dataset.csv\")\n",
        "df = pd.read_csv(\"Heart_Disease_Dataset.csv\")"
      ]
    },
    {
      "cell_type": "markdown",
      "source": [
        "#**First Section**"
      ],
      "metadata": {
        "id": "bytTvmH5IL4r"
      }
    },
    {
      "cell_type": "code",
      "source": [
        "print('shape = '+ str(df.shape))"
      ],
      "metadata": {
        "colab": {
          "base_uri": "https://localhost:8080/"
        },
        "id": "nfHX7vmvD62N",
        "outputId": "29f7e06c-23de-46f1-f166-40ea545ed882"
      },
      "execution_count": null,
      "outputs": [
        {
          "output_type": "stream",
          "name": "stdout",
          "text": [
            "shape = (1190, 12)\n"
          ]
        }
      ]
    },
    {
      "cell_type": "markdown",
      "source": [
        "<div dir=rtl>\n",
        "بر اساس محاسابات داریم که 1190 نمونه که هر کدام 11 ویژگی دارند را در اختیار داریم."
      ],
      "metadata": {
        "id": "cG3uSzgcEnex"
      }
    },
    {
      "cell_type": "code",
      "source": [
        "for i in df.columns:\n",
        "  print('column ' + i + ' has missing value : ' + str(df[i].isnull().values.any()))\n",
        "# df['resting ecg'].unique()\n",
        "# df[df['fasting blood sugar'].isnull()]"
      ],
      "metadata": {
        "colab": {
          "base_uri": "https://localhost:8080/"
        },
        "id": "Z5R8t27lD7Lx",
        "outputId": "4adb6cdd-3695-4561-971f-b3016c199064"
      },
      "execution_count": null,
      "outputs": [
        {
          "output_type": "stream",
          "name": "stdout",
          "text": [
            "column age has missing value : False\n",
            "column sex has missing value : False\n",
            "column chest pain type has missing value : False\n",
            "column resting bp s has missing value : False\n",
            "column cholesterol has missing value : False\n",
            "column fasting blood sugar has missing value : False\n",
            "column resting ecg has missing value : False\n",
            "column max heart rate has missing value : False\n",
            "column exercise angina has missing value : False\n",
            "column oldpeak has missing value : False\n",
            "column ST slope has missing value : False\n",
            "column target has missing value : False\n"
          ]
        }
      ]
    },
    {
      "cell_type": "markdown",
      "source": [
        "<div dir=rtl>\n",
        "در این جا بررسی می‌کنیم که آیا در هر ستون داده، دیتا حذف‌شده یا\n",
        "NaN\n",
        "وجود دارد یا خیر"
      ],
      "metadata": {
        "id": "mJ7zIff9D7cf"
      }
    },
    {
      "cell_type": "markdown",
      "source": [],
      "metadata": {
        "id": "icKG5MpVIcmm"
      }
    },
    {
      "cell_type": "code",
      "source": [
        "(df['target'].sum()/len(df['target']))*100"
      ],
      "metadata": {
        "colab": {
          "base_uri": "https://localhost:8080/"
        },
        "id": "vvScPIwiHzol",
        "outputId": "d36ccec7-d95c-4510-da52-b0c8ab1fba23"
      },
      "execution_count": null,
      "outputs": [
        {
          "output_type": "execute_result",
          "data": {
            "text/plain": [
              "52.85714285714286"
            ]
          },
          "metadata": {},
          "execution_count": 9
        }
      ]
    },
    {
      "cell_type": "markdown",
      "source": [
        "<div dir=rtl>\n",
        "در اینجا درصد کلاس‌های یک را بدست آوردیم که نزدیک 50% می‌باشد و نشان می‌دهد داده‌ها تا حد زیادی بالانس است.\n"
      ],
      "metadata": {
        "id": "P3b7d76pIdsF"
      }
    },
    {
      "cell_type": "code",
      "source": [
        "import seaborn as sns\n",
        "\n",
        "a = df.index[df['target'] == 1].tolist()\n",
        "sns.displot(df['age'][a]).set(title='Class 1 age')\n",
        "a = df.index[df['target'] == 0].tolist()\n",
        "sns.displot(df['age'][a]).set(title='Class 0 age')\n",
        "a = df.index[df['target'] == 1].tolist()\n",
        "sns.displot(df['sex'][a]).set(title='Class 1 sex')\n",
        "a = df.index[df['target'] == 0].tolist()\n",
        "sns.displot(df['sex'][a]).set(title='Class 0 sex')"
      ],
      "metadata": {
        "colab": {
          "base_uri": "https://localhost:8080/",
          "height": 1000
        },
        "id": "-9AKagR3JUIC",
        "outputId": "da43758b-dfe2-4771-d235-c3afc77f486b"
      },
      "execution_count": null,
      "outputs": [
        {
          "output_type": "execute_result",
          "data": {
            "text/plain": [
              "<seaborn.axisgrid.FacetGrid at 0x7de9264db790>"
            ]
          },
          "metadata": {},
          "execution_count": 10
        },
        {
          "output_type": "display_data",
          "data": {
            "text/plain": [
              "<Figure size 500x500 with 1 Axes>"
            ],
            "image/png": "[encoded data removed]"
          },
          "metadata": {}
        },
        {
          "output_type": "display_data",
          "data": {
            "text/plain": [
              "<Figure size 500x500 with 1 Axes>"
            ],
            "image/png": "[encoded data removed]"
          },
          "metadata": {}
        },
        {
          "output_type": "display_data",
          "data": {
            "text/plain": [
              "<Figure size 500x500 with 1 Axes>"
            ],
            "image/png": "[encoded data removed]"
          },
          "metadata": {}
        },
        {
          "output_type": "display_data",
          "data": {
            "text/plain": [
              "<Figure size 500x500 with 1 Axes>"
            ],
            "image/png": "[encoded data removed]"
          },
          "metadata": {}
        }
      ]
    },
    {
      "cell_type": "markdown",
      "source": [
        "#**Second Section**"
      ],
      "metadata": {
        "id": "O8ssAaJD9k06"
      }
    },
    {
      "cell_type": "code",
      "source": [
        "from scipy.stats import zscore\n",
        "def find_outliers(col):\n",
        "  z = np.abs(zscore(col))\n",
        "  # idx = np.where(z>3,True,False)\n",
        "  idx = np.array(np.where(z>3)).tolist()\n",
        "  return idx\n",
        "for i in df.columns:\n",
        "  idx_o = find_outliers(df[i])\n",
        "  print('array of outliers in ' +i +' column:' + str(idx_o))\n",
        "new_df = df[(np.abs(zscore(df.select_dtypes(include=np.number))) < 3).all(axis=1)]\n",
        "shape = new_df.shape\n",
        "print(\"shape of new dataset is: \" , shape)\n",
        "\n"
      ],
      "metadata": {
        "colab": {
          "base_uri": "https://localhost:8080/"
        },
        "id": "Ot2qY_Lps2jH",
        "outputId": "caa94eec-b47c-499f-adca-16944ad5b5cf"
      },
      "execution_count": null,
      "outputs": [
        {
          "output_type": "stream",
          "name": "stdout",
          "text": [
            "array of outliers in age column:[[]]\n",
            "array of outliers in sex column:[[]]\n",
            "array of outliers in chest pain type column:[[]]\n",
            "array of outliers in resting bp s column:[[109, 242, 366, 400, 450, 593, 734, 761, 1013, 1075]]\n",
            "array of outliers in cholesterol column:[[30, 76, 149, 618, 1039]]\n",
            "array of outliers in fasting blood sugar column:[[]]\n",
            "array of outliers in resting ecg column:[[]]\n",
            "array of outliers in max heart rate column:[[371, 391]]\n",
            "array of outliers in exercise angina column:[[]]\n",
            "array of outliers in oldpeak column:[[167, 325, 704, 773, 793, 852, 978, 1010, 1070, 1078, 1172]]\n",
            "array of outliers in ST slope column:[[]]\n",
            "array of outliers in target column:[[]]\n",
            "shape of new dataset is:  (1162, 12)\n"
          ]
        }
      ]
    },
    {
      "cell_type": "markdown",
      "source": [
        "<div dir=rtl>\n",
        "می‌بینیم که طول داده‌ها بعد از حذف\n",
        "outliers\n",
        "به عدد 1162 رسیده است.\n"
      ],
      "metadata": {
        "id": "5nLJKiI7zksy"
      }
    },
    {
      "cell_type": "markdown",
      "source": [
        "#**Third Section**"
      ],
      "metadata": {
        "id": "1YaeDHk590MK"
      }
    },
    {
      "cell_type": "code",
      "source": [
        "# normalized_df=(df-df.mean())/df.std()\n",
        "# normalized_df = new_df.apply(lambda x: x/x.max(), axis=0) ###### normalized by max dividing\n",
        "normalized_df = (new_df-new_df.min())/(new_df.max()-new_df.min()) ###### normalized by min-max\n",
        "# normalized_df"
      ],
      "metadata": {
        "id": "akfP5If441Tv"
      },
      "execution_count": null,
      "outputs": []
    },
    {
      "cell_type": "markdown",
      "source": [
        "<div dir=rtl>\n",
        "روش‌های مختلفی برای نرمالایز کردن وجود داشت که ما از\n",
        "min-max\n",
        "استفاده کردیم."
      ],
      "metadata": {
        "id": "4FtMvUgj9LnA"
      }
    },
    {
      "cell_type": "markdown",
      "source": [
        "#**Fourth Section**"
      ],
      "metadata": {
        "id": "Jcmff4EL935s"
      }
    },
    {
      "cell_type": "code",
      "source": [
        "from sklearn.model_selection import train_test_split\n",
        "\n",
        "train, test = train_test_split(normalized_df, test_size=0.3)\n",
        "\n",
        "# Getting features\n",
        "X_train = train.to_numpy()[: , :-1]\n",
        "y_train = train.to_numpy()[: , -1]\n",
        "\n",
        "# Getting labels\n",
        "X_test = test.to_numpy()[: , :-1]\n",
        "y_test = test.to_numpy()[: , -1]\n",
        "\n",
        "print(\"Train Dataset: \", X_train.shape ,y_train.shape)\n",
        "print(\"Test Dataset: \" ,X_test.shape ,y_test.shape)"
      ],
      "metadata": {
        "colab": {
          "base_uri": "https://localhost:8080/"
        },
        "id": "fEDF2KvK9V5P",
        "outputId": "ee5bfc0e-8754-46e4-8680-d0630949d289"
      },
      "execution_count": null,
      "outputs": [
        {
          "output_type": "stream",
          "name": "stdout",
          "text": [
            "Train Dataset:  (813, 11) (813,)\n",
            "Test Dataset:  (349, 11) (349,)\n"
          ]
        }
      ]
    },
    {
      "cell_type": "code",
      "source": [
        "def SVM_result(label_true, label_predicted):\n",
        "\n",
        "    accuracy = np.sum((label_true == label_predicted)) / len(label_predicted)\n",
        "    precision = np.sum(((label_predicted == label_true) & (label_true == 1))) / np.sum((label_predicted == 1))\n",
        "    recall = np.sum(((label_predicted == label_true) & (label_true == 1))) / np.sum((label_true == 1))\n",
        "    f1score = 2 * np.sum(((label_predicted == label_true) & (label_true == 1))) / (np.sum(label_true == 1) + np.sum(label_predicted == 1))\n",
        "\n",
        "    return accuracy, precision, recall, f1score"
      ],
      "metadata": {
        "id": "ap8xlh90cwRF"
      },
      "execution_count": null,
      "outputs": []
    },
    {
      "cell_type": "code",
      "source": [
        "from sklearn.svm import SVC\n",
        "\n",
        "###### Linear Kernel ######\n",
        "clf = SVC(kernel='linear', C=50)\n",
        "clf.fit(X_train, y_train)\n",
        "y_predicted = clf.predict(X_test)\n",
        "print(\"SVM Linear Result:\", SVM_result(y_test, y_predicted))\n",
        "\n",
        "\n",
        "###### Polynomial Kernel ######\n",
        "clf = SVC(kernel='poly', C=500)\n",
        "clf.fit(X_train, y_train)\n",
        "y_predicted = clf.predict(X_test)\n",
        "print(str(i+1),\"SVM Polynomial Result:\", SVM_result(y_test, y_predicted))\n",
        "\n",
        "\n",
        "###### RBF Kernel ######\n",
        "clf = SVC(kernel='rbf',gamma =10 ,C=50)\n",
        "clf.fit(X_train, y_train)\n",
        "y_predicted = clf.predict(X_test)\n",
        "print(\"SVM RBF Result:\", SVM_result(y_test, y_predicted))\n",
        "\n",
        "\n",
        "\n"
      ],
      "metadata": {
        "colab": {
          "base_uri": "https://localhost:8080/"
        },
        "id": "_lwRv2S4ede9",
        "outputId": "fdd2de1e-8eb6-4941-abb8-636117ce513e"
      },
      "execution_count": null,
      "outputs": [
        {
          "output_type": "stream",
          "name": "stdout",
          "text": [
            "SVM Linear Result: (0.8022922636103151, 0.8156424581005587, 0.8021978021978022, 0.8088642659279779)\n",
            "982 SVM Polynomial Result: (0.8595988538681948, 0.8715083798882681, 0.8571428571428571, 0.8642659279778393)\n",
            "SVM RBF Result: (0.9197707736389685, 0.9010416666666666, 0.9505494505494505, 0.9251336898395722)\n"
          ]
        }
      ]
    },
    {
      "cell_type": "markdown",
      "source": [
        "<div dir=rtl>\n",
        "\n",
        "در بالا آرایه‌ها به ترتیب از چپ به راست\n",
        "\n",
        "accuracy\n",
        "precision\n",
        "recall\n",
        "f1score\n",
        "\n",
        "هستند"
      ],
      "metadata": {
        "id": "r9q5YtJF9hIN"
      }
    }
  ]
}